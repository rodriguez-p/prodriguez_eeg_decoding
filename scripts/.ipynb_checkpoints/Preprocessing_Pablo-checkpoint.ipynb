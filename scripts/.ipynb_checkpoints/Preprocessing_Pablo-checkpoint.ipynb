{
 "cells": [
  {
   "cell_type": "code",
   "execution_count": 3,
   "id": "819ad9ef-fe2d-47ea-b117-2c99f5ce6907",
   "metadata": {},
   "outputs": [
    {
     "name": "stdout",
     "output_type": "stream",
     "text": [
      "Requirement already satisfied: mne in c:\\python310\\lib\\site-packages (1.0.0)"
     ]
    },
    {
     "name": "stderr",
     "output_type": "stream",
     "text": [
      "WARNING: You are using pip version 21.2.4; however, version 22.1.1 is available.\n",
      "You should consider upgrading via the 'C:\\Python310\\python.exe -m pip install --upgrade pip' command.\n"
     ]
    },
    {
     "name": "stdout",
     "output_type": "stream",
     "text": [
      "\n",
      "Requirement already satisfied: tqdm in c:\\python310\\lib\\site-packages (from mne) (4.64.0)\n",
      "Requirement already satisfied: decorator in c:\\users\\pablr\\appdata\\roaming\\python\\python310\\site-packages (from mne) (5.1.1)\n",
      "Requirement already satisfied: numpy>=1.15.4 in c:\\python310\\lib\\site-packages (from mne) (1.22.1)\n",
      "Requirement already satisfied: packaging in c:\\python310\\lib\\site-packages (from mne) (21.3)\n",
      "Requirement already satisfied: jinja2 in c:\\python310\\lib\\site-packages (from mne) (3.1.1)\n",
      "Requirement already satisfied: pooch>=1.5 in c:\\python310\\lib\\site-packages (from mne) (1.6.0)\n",
      "Requirement already satisfied: scipy>=1.1.0 in c:\\python310\\lib\\site-packages (from mne) (1.7.3)\n",
      "Requirement already satisfied: matplotlib in c:\\python310\\lib\\site-packages (from mne) (3.5.1)\n",
      "Requirement already satisfied: appdirs>=1.3.0 in c:\\python310\\lib\\site-packages (from pooch>=1.5->mne) (1.4.4)\n",
      "Requirement already satisfied: requests>=2.19.0 in c:\\python310\\lib\\site-packages (from pooch>=1.5->mne) (2.27.1)\n",
      "Requirement already satisfied: pyparsing!=3.0.5,>=2.0.2 in c:\\python310\\lib\\site-packages (from packaging->mne) (3.0.7)\n",
      "Requirement already satisfied: charset-normalizer~=2.0.0 in c:\\python310\\lib\\site-packages (from requests>=2.19.0->pooch>=1.5->mne) (2.0.12)\n",
      "Requirement already satisfied: idna<4,>=2.5 in c:\\python310\\lib\\site-packages (from requests>=2.19.0->pooch>=1.5->mne) (3.3)\n",
      "Requirement already satisfied: urllib3<1.27,>=1.21.1 in c:\\python310\\lib\\site-packages (from requests>=2.19.0->pooch>=1.5->mne) (1.26.9)\n",
      "Requirement already satisfied: certifi>=2017.4.17 in c:\\python310\\lib\\site-packages (from requests>=2.19.0->pooch>=1.5->mne) (2021.10.8)\n",
      "Requirement already satisfied: MarkupSafe>=2.0 in c:\\python310\\lib\\site-packages (from jinja2->mne) (2.1.1)\n",
      "Requirement already satisfied: cycler>=0.10 in c:\\python310\\lib\\site-packages (from matplotlib->mne) (0.11.0)\n",
      "Requirement already satisfied: pillow>=6.2.0 in c:\\python310\\lib\\site-packages (from matplotlib->mne) (9.0.0)\n",
      "Requirement already satisfied: kiwisolver>=1.0.1 in c:\\python310\\lib\\site-packages (from matplotlib->mne) (1.3.2)\n",
      "Requirement already satisfied: python-dateutil>=2.7 in c:\\users\\pablr\\appdata\\roaming\\python\\python310\\site-packages (from matplotlib->mne) (2.8.2)\n",
      "Requirement already satisfied: fonttools>=4.22.0 in c:\\python310\\lib\\site-packages (from matplotlib->mne) (4.29.0)\n",
      "Requirement already satisfied: six>=1.5 in c:\\users\\pablr\\appdata\\roaming\\python\\python310\\site-packages (from python-dateutil>=2.7->matplotlib->mne) (1.16.0)\n",
      "Requirement already satisfied: colorama in c:\\users\\pablr\\appdata\\roaming\\python\\python310\\site-packages (from tqdm->mne) (0.4.4)\n",
      "Requirement already satisfied: mne_bids in c:\\python310\\lib\\site-packages (0.10)\n",
      "Requirement already satisfied: mne>=0.24 in c:\\python310\\lib\\site-packages (from mne_bids) (1.0.0)\n",
      "Requirement already satisfied: scipy>=1.2.0 in c:\\python310\\lib\\site-packages (from mne_bids) (1.7.3)\n",
      "Requirement already satisfied: setuptools in c:\\python310\\lib\\site-packages (from mne_bids) (58.1.0)\n",
      "Requirement already satisfied: jinja2 in c:\\python310\\lib\\site-packages (from mne_bids) (3.1.1)\n"
     ]
    },
    {
     "name": "stderr",
     "output_type": "stream",
     "text": [
      "WARNING: You are using pip version 21.2.4; however, version 22.1.1 is available.\n",
      "You should consider upgrading via the 'C:\\Python310\\python.exe -m pip install --upgrade pip' command.\n"
     ]
    },
    {
     "name": "stdout",
     "output_type": "stream",
     "text": [
      "Requirement already satisfied: importlib-resources in c:\\python310\\lib\\site-packages (from mne_bids) (5.7.1)\n",
      "Requirement already satisfied: numpy>=1.16.0 in c:\\python310\\lib\\site-packages (from mne_bids) (1.22.1)\n",
      "Requirement already satisfied: packaging in c:\\python310\\lib\\site-packages (from mne>=0.24->mne_bids) (21.3)\n",
      "Requirement already satisfied: matplotlib in c:\\python310\\lib\\site-packages (from mne>=0.24->mne_bids) (3.5.1)\n",
      "Requirement already satisfied: tqdm in c:\\python310\\lib\\site-packages (from mne>=0.24->mne_bids) (4.64.0)\n",
      "Requirement already satisfied: decorator in c:\\users\\pablr\\appdata\\roaming\\python\\python310\\site-packages (from mne>=0.24->mne_bids) (5.1.1)\n",
      "Requirement already satisfied: pooch>=1.5 in c:\\python310\\lib\\site-packages (from mne>=0.24->mne_bids) (1.6.0)\n",
      "Requirement already satisfied: appdirs>=1.3.0 in c:\\python310\\lib\\site-packages (from pooch>=1.5->mne>=0.24->mne_bids) (1.4.4)\n",
      "Requirement already satisfied: requests>=2.19.0 in c:\\python310\\lib\\site-packages (from pooch>=1.5->mne>=0.24->mne_bids) (2.27.1)\n",
      "Requirement already satisfied: pyparsing!=3.0.5,>=2.0.2 in c:\\python310\\lib\\site-packages (from packaging->mne>=0.24->mne_bids) (3.0.7)\n",
      "Requirement already satisfied: idna<4,>=2.5 in c:\\python310\\lib\\site-packages (from requests>=2.19.0->pooch>=1.5->mne>=0.24->mne_bids) (3.3)\n",
      "Requirement already satisfied: certifi>=2017.4.17 in c:\\python310\\lib\\site-packages (from requests>=2.19.0->pooch>=1.5->mne>=0.24->mne_bids) (2021.10.8)\n",
      "Requirement already satisfied: urllib3<1.27,>=1.21.1 in c:\\python310\\lib\\site-packages (from requests>=2.19.0->pooch>=1.5->mne>=0.24->mne_bids) (1.26.9)\n",
      "Requirement already satisfied: charset-normalizer~=2.0.0 in c:\\python310\\lib\\site-packages (from requests>=2.19.0->pooch>=1.5->mne>=0.24->mne_bids) (2.0.12)\n",
      "Requirement already satisfied: MarkupSafe>=2.0 in c:\\python310\\lib\\site-packages (from jinja2->mne_bids) (2.1.1)\n",
      "Requirement already satisfied: pillow>=6.2.0 in c:\\python310\\lib\\site-packages (from matplotlib->mne>=0.24->mne_bids) (9.0.0)\n",
      "Requirement already satisfied: fonttools>=4.22.0 in c:\\python310\\lib\\site-packages (from matplotlib->mne>=0.24->mne_bids) (4.29.0)\n",
      "Requirement already satisfied: cycler>=0.10 in c:\\python310\\lib\\site-packages (from matplotlib->mne>=0.24->mne_bids) (0.11.0)\n",
      "Requirement already satisfied: python-dateutil>=2.7 in c:\\users\\pablr\\appdata\\roaming\\python\\python310\\site-packages (from matplotlib->mne>=0.24->mne_bids) (2.8.2)\n",
      "Requirement already satisfied: kiwisolver>=1.0.1 in c:\\python310\\lib\\site-packages (from matplotlib->mne>=0.24->mne_bids) (1.3.2)\n",
      "Requirement already satisfied: six>=1.5 in c:\\users\\pablr\\appdata\\roaming\\python\\python310\\site-packages (from python-dateutil>=2.7->matplotlib->mne>=0.24->mne_bids) (1.16.0)\n",
      "Requirement already satisfied: colorama in c:\\users\\pablr\\appdata\\roaming\\python\\python310\\site-packages (from tqdm->mne>=0.24->mne_bids) (0.4.4)\n",
      "Collecting autoreject"
     ]
    },
    {
     "name": "stderr",
     "output_type": "stream",
     "text": [
      "WARNING: You are using pip version 21.2.4; however, version 22.1.1 is available.\n",
      "You should consider upgrading via the 'C:\\Python310\\python.exe -m pip install --upgrade pip' command.\n"
     ]
    },
    {
     "name": "stdout",
     "output_type": "stream",
     "text": [
      "\n",
      "  Using cached autoreject-0.3.1-py3-none-any.whl (27 kB)\n",
      "Requirement already satisfied: joblib in c:\\python310\\lib\\site-packages (from autoreject) (1.1.0)\n",
      "Requirement already satisfied: numpy>=1.8 in c:\\python310\\lib\\site-packages (from autoreject) (1.22.1)\n",
      "Requirement already satisfied: mne>=0.24.1 in c:\\python310\\lib\\site-packages (from autoreject) (1.0.0)\n",
      "Requirement already satisfied: scikit-learn>=0.18 in c:\\python310\\lib\\site-packages (from autoreject) (1.0.2)\n",
      "Requirement already satisfied: matplotlib>=1.3 in c:\\python310\\lib\\site-packages (from autoreject) (3.5.1)\n",
      "Requirement already satisfied: scipy>=0.16 in c:\\python310\\lib\\site-packages (from autoreject) (1.7.3)\n",
      "Requirement already satisfied: pyparsing>=2.2.1 in c:\\python310\\lib\\site-packages (from matplotlib>=1.3->autoreject) (3.0.7)\n",
      "Requirement already satisfied: packaging>=20.0 in c:\\python310\\lib\\site-packages (from matplotlib>=1.3->autoreject) (21.3)\n",
      "Requirement already satisfied: cycler>=0.10 in c:\\python310\\lib\\site-packages (from matplotlib>=1.3->autoreject) (0.11.0)\n",
      "Requirement already satisfied: kiwisolver>=1.0.1 in c:\\python310\\lib\\site-packages (from matplotlib>=1.3->autoreject) (1.3.2)\n",
      "Requirement already satisfied: fonttools>=4.22.0 in c:\\python310\\lib\\site-packages (from matplotlib>=1.3->autoreject) (4.29.0)\n",
      "Requirement already satisfied: python-dateutil>=2.7 in c:\\users\\pablr\\appdata\\roaming\\python\\python310\\site-packages (from matplotlib>=1.3->autoreject) (2.8.2)\n",
      "Requirement already satisfied: pillow>=6.2.0 in c:\\python310\\lib\\site-packages (from matplotlib>=1.3->autoreject) (9.0.0)\n",
      "Requirement already satisfied: decorator in c:\\users\\pablr\\appdata\\roaming\\python\\python310\\site-packages (from mne>=0.24.1->autoreject) (5.1.1)\n",
      "Requirement already satisfied: tqdm in c:\\python310\\lib\\site-packages (from mne>=0.24.1->autoreject) (4.64.0)\n",
      "Requirement already satisfied: jinja2 in c:\\python310\\lib\\site-packages (from mne>=0.24.1->autoreject) (3.1.1)\n",
      "Requirement already satisfied: pooch>=1.5 in c:\\python310\\lib\\site-packages (from mne>=0.24.1->autoreject) (1.6.0)\n",
      "Requirement already satisfied: appdirs>=1.3.0 in c:\\python310\\lib\\site-packages (from pooch>=1.5->mne>=0.24.1->autoreject) (1.4.4)\n",
      "Requirement already satisfied: requests>=2.19.0 in c:\\python310\\lib\\site-packages (from pooch>=1.5->mne>=0.24.1->autoreject) (2.27.1)\n",
      "Requirement already satisfied: six>=1.5 in c:\\users\\pablr\\appdata\\roaming\\python\\python310\\site-packages (from python-dateutil>=2.7->matplotlib>=1.3->autoreject) (1.16.0)\n",
      "Requirement already satisfied: certifi>=2017.4.17 in c:\\python310\\lib\\site-packages (from requests>=2.19.0->pooch>=1.5->mne>=0.24.1->autoreject) (2021.10.8)\n",
      "Requirement already satisfied: urllib3<1.27,>=1.21.1 in c:\\python310\\lib\\site-packages (from requests>=2.19.0->pooch>=1.5->mne>=0.24.1->autoreject) (1.26.9)\n",
      "Requirement already satisfied: charset-normalizer~=2.0.0 in c:\\python310\\lib\\site-packages (from requests>=2.19.0->pooch>=1.5->mne>=0.24.1->autoreject) (2.0.12)\n",
      "Requirement already satisfied: idna<4,>=2.5 in c:\\python310\\lib\\site-packages (from requests>=2.19.0->pooch>=1.5->mne>=0.24.1->autoreject) (3.3)\n",
      "Requirement already satisfied: threadpoolctl>=2.0.0 in c:\\python310\\lib\\site-packages (from scikit-learn>=0.18->autoreject) (3.1.0)\n",
      "Requirement already satisfied: MarkupSafe>=2.0 in c:\\python310\\lib\\site-packages (from jinja2->mne>=0.24.1->autoreject) (2.1.1)\n",
      "Requirement already satisfied: colorama in c:\\users\\pablr\\appdata\\roaming\\python\\python310\\site-packages (from tqdm->mne>=0.24.1->autoreject) (0.4.4)\n",
      "Installing collected packages: autoreject\n",
      "Successfully installed autoreject-0.3.1\n",
      "Requirement already satisfied: tqdm in c:\\python310\\lib\\site-packages (4.64.0)\n",
      "Requirement already satisfied: colorama in c:\\users\\pablr\\appdata\\roaming\\python\\python310\\site-packages (from tqdm) (0.4.4)\n"
     ]
    },
    {
     "name": "stderr",
     "output_type": "stream",
     "text": [
      "WARNING: You are using pip version 21.2.4; however, version 22.1.1 is available.\n",
      "You should consider upgrading via the 'C:\\Python310\\python.exe -m pip install --upgrade pip' command.\n"
     ]
    },
    {
     "name": "stdout",
     "output_type": "stream",
     "text": [
      "Requirement already satisfied: h5io in c:\\python310\\lib\\site-packages (0.1.7)\n",
      "Requirement already satisfied: h5py in c:\\python310\\lib\\site-packages (from h5io) (3.6.0)\n",
      "Requirement already satisfied: numpy in c:\\python310\\lib\\site-packages (from h5io) (1.22.1)\n"
     ]
    },
    {
     "name": "stderr",
     "output_type": "stream",
     "text": [
      "WARNING: You are using pip version 21.2.4; however, version 22.1.1 is available.\n",
      "You should consider upgrading via the 'C:\\Python310\\python.exe -m pip install --upgrade pip' command.\n"
     ]
    }
   ],
   "source": [
    "# install and load needed packages\n",
    "\n",
    "#interactive plots\n",
    "%matplotlib qt \n",
    "\n",
    "# opens a console for the notebook\n",
    "# %qtconsole \n",
    "\n",
    "!pip install mne\n",
    "!pip install mne_bids\n",
    "!pip install autoreject\n",
    "!pip install tqdm\n",
    "!pip install h5io\n",
    "import numpy as np\n",
    "import mne\n",
    "from mne.preprocessing import (ICA, create_eog_epochs, create_ecg_epochs, compute_proj_ecg, compute_proj_eog)\n",
    "# import mne_bids\n",
    "# from mne_bids import BIDSPath, write_raw_bids\n",
    "import os.path\n",
    "import matplotlib.pyplot as plt\n",
    "# import h5io\n",
    "# import autoreject\n",
    "# from autoreject import (AutoReject, get_rejection_threshold, Ransac)\n",
    "# import picard\n",
    "# import pathlib"
   ]
  },
  {
   "cell_type": "markdown",
   "id": "1f50a1e9-1683-4d81-b411-904be05565ac",
   "metadata": {},
   "source": [
    "### 1. Load raw data"
   ]
  },
  {
   "cell_type": "code",
   "execution_count": null,
   "id": "e6492a12-0ad8-4a84-b5db-64abebba7bc5",
   "metadata": {},
   "outputs": [],
   "source": [
    "DATA_ROOT = '../data'\n",
    "SUBJECT = 10\n",
    "FILE_PREFIX = 'PRODRIGUEZ_'\n",
    "MONTAGE_FILE = 'easycap-M10.txt'\n",
    "\n",
    "raw = mne.io.read_raw_brainvision(\"{}/S{}/{}{:06d}.vhdr\".format(DATA_ROOT , SUBJECT, FILE_PREFIX, SUBJECT), preload=True, eog={'EOG1', 'EOG2'})\n",
    "montage=mne.channels.read_custom_montage(fname='{}/{}'.format(DATA_ROOT, MONTAGE_FILE))\n",
    "mapping={'FCz': 'Iz'}\n",
    "mne.rename_channels(raw.info, mapping)\n",
    "raw.set_montage(montage)"
   ]
  },
  {
   "cell_type": "code",
   "execution_count": null,
   "id": "429ce9d1-0f2c-49ac-bf8c-ce458d07b406",
   "metadata": {},
   "outputs": [],
   "source": [
    "# print(raw)"
   ]
  },
  {
   "cell_type": "code",
   "execution_count": null,
   "id": "100c5b0d-6329-473d-a3d0-1a5a23daf0a6",
   "metadata": {},
   "outputs": [],
   "source": [
    "# Información del archivo\n",
    "# print(raw.info)"
   ]
  },
  {
   "cell_type": "code",
   "execution_count": null,
   "id": "68d36239-f223-4115-b77c-a1f6fb8bb40c",
   "metadata": {},
   "outputs": [],
   "source": [
    "# Listamos los nombres de los canales\n",
    "# print(raw.ch_names)"
   ]
  },
  {
   "cell_type": "code",
   "execution_count": null,
   "id": "0184338a-8385-487e-85ff-eef90bf399a8",
   "metadata": {},
   "outputs": [],
   "source": [
    "# Representamos la señal en bruto\n",
    "# raw.plot()"
   ]
  },
  {
   "cell_type": "code",
   "execution_count": null,
   "id": "133b0708-30fe-44bb-a0b6-242ddb24b82d",
   "metadata": {},
   "outputs": [],
   "source": [
    "# Ploteamos el espectro de todos los canales\n",
    "# raw.plot_psd(picks='eeg', fmax=raw.info['sfreq']/2.0)"
   ]
  },
  {
   "cell_type": "code",
   "execution_count": null,
   "id": "3efc9c45-43d7-48bc-ae0d-1ae26e24dbdb",
   "metadata": {},
   "outputs": [],
   "source": [
    "# raw.plot_psd(picks='eeg', fmax=raw.info['sfreq']/2.0, tmax=15*60., average=True)"
   ]
  },
  {
   "cell_type": "code",
   "execution_count": null,
   "id": "7d50b7ca-3386-4552-a2ca-c9e20fe1c4eb",
   "metadata": {},
   "outputs": [],
   "source": [
    "# aplicar filtro si hay distorsión de la línea eléctrica"
   ]
  }
 ],
 "metadata": {
  "kernelspec": {
   "display_name": "Python 3 (ipykernel)",
   "language": "python",
   "name": "python3"
  },
  "language_info": {
   "codemirror_mode": {
    "name": "ipython",
    "version": 3
   },
   "file_extension": ".py",
   "mimetype": "text/x-python",
   "name": "python",
   "nbconvert_exporter": "python",
   "pygments_lexer": "ipython3",
   "version": "3.10.1"
  }
 },
 "nbformat": 4,
 "nbformat_minor": 5
}
